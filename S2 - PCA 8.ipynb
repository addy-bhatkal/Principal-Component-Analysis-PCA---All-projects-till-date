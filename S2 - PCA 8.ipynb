{
 "cells": [
  {
   "cell_type": "code",
   "execution_count": 51,
   "id": "9e6eba27",
   "metadata": {},
   "outputs": [],
   "source": [
    "import os \n",
    "import pandas as pd\n",
    "import numpy as np\n",
    "from sklearn.model_selection import train_test_split\n",
    "from sklearn.metrics import confusion_matrix, accuracy_score\n",
    "from sklearn.decomposition import PCA\n",
    "from sklearn.preprocessing import StandardScaler\n",
    "from sklearn.linear_model import LogisticRegression\n",
    "import matplotlib.pyplot as plt"
   ]
  },
  {
   "cell_type": "code",
   "execution_count": 52,
   "id": "49417935",
   "metadata": {
    "scrolled": true
   },
   "outputs": [
    {
     "data": {
      "text/plain": [
       "'C:\\\\Users\\\\ABC\\\\6. Datasets'"
      ]
     },
     "execution_count": 52,
     "metadata": {},
     "output_type": "execute_result"
    }
   ],
   "source": [
    "pwd"
   ]
  },
  {
   "cell_type": "code",
   "execution_count": 53,
   "id": "73643841",
   "metadata": {},
   "outputs": [],
   "source": [
    "os.chdir('C:\\\\Users\\\\ABC\\\\6. Datasets')"
   ]
  },
  {
   "cell_type": "code",
   "execution_count": 54,
   "id": "2d049379",
   "metadata": {},
   "outputs": [
    {
     "data": {
      "text/plain": [
       "['.ipynb_checkpoints',\n",
       " '42E17330',\n",
       " '8qxce0lddu.xlsx',\n",
       " 'Adventure Works - Tableau Module 8 copy.csv',\n",
       " 'archive',\n",
       " 'archive.zip',\n",
       " 'ARM - Bakery Data',\n",
       " 'ARM - Bakery Data.zip',\n",
       " 'ARM - Bakery.csv',\n",
       " 'Aug 2023 - Nov 6th 2023.xls',\n",
       " 'bank-full.csv',\n",
       " 'bank_cleaned (2).csv',\n",
       " 'bank_cleaned (3).csv',\n",
       " 'bank_cleaned.csv',\n",
       " 'BigMartSalesData.csv',\n",
       " 'BostonHousing.csv',\n",
       " 'BostonHousing2.csv',\n",
       " 'breast cancer - LogReg.csv',\n",
       " 'BX-Book-Ratings.csv',\n",
       " 'BX-Books.csv',\n",
       " 'BX-Users.csv',\n",
       " 'CarPrice_Assignment.csv',\n",
       " 'Cars2015.csv',\n",
       " 'cereal.csv',\n",
       " 'CityTemps.csv',\n",
       " \"code - Nikita mam's code.ipynb\",\n",
       " 'Code module 8.ipynb',\n",
       " 'CoffeeChart2.xlsx',\n",
       " 'Concrete_Data_Yeh.csv',\n",
       " 'Concrete_Data_Yeh2 - To test.csv',\n",
       " 'Credit Card Customer Data.csv',\n",
       " 'Data Dictionary - carprices.xlsx',\n",
       " 'diabetes.csv',\n",
       " 'DSScoreTerm1.csv',\n",
       " 'emails.csv',\n",
       " 'EmailsNotepad.txt',\n",
       " 'f1 - 1',\n",
       " 'FyntraCustomerData.csv',\n",
       " 'Groceries_dataset.csv',\n",
       " 'HDFC Aug 2023 - Nov 6th 2023.pdf',\n",
       " 'heart (1) - LogReg.csv',\n",
       " 'heart - LogReg.csv',\n",
       " 'Hurricanes.csv',\n",
       " 'In class demo- Global Retail Case Study (Tableau Module 9 copy).xlsx',\n",
       " 'income dataset',\n",
       " 'income.csv',\n",
       " 'iris.csv',\n",
       " 'Life Expectancy Data.csv',\n",
       " 'MathScoreTerm1.csv',\n",
       " 'middle_tn_schools.csv',\n",
       " 'Movie reccomender Movie_Titles_Id1.csv',\n",
       " 'Movie reccomender Recommend1.csv',\n",
       " 'Online_Retail(1).csv',\n",
       " 'Online_Retail(2).csv',\n",
       " 'Online_Retail.csv',\n",
       " 'Online_Retail.xlsx',\n",
       " 'Pandas practice Corey Schafer',\n",
       " 'PhysicsScoreTerm1.csv',\n",
       " 'portuguesebank.csv',\n",
       " 'price_prediction_result.xlsx',\n",
       " 'pricing.csv',\n",
       " 'prisoners.csv',\n",
       " 'ratings-demo.csv',\n",
       " 'Recommend.csv',\n",
       " 'rentalday.csv',\n",
       " 'rentalhour.csv',\n",
       " 'SalaryGender.csv',\n",
       " 'Salary_Data.csv',\n",
       " 'sample-salesv2.csv',\n",
       " 'ScoreFinal.csv',\n",
       " 'student.csv',\n",
       " 'survey_results_public_2020.csv',\n",
       " 'survey_results_public_2020.xlsx',\n",
       " 'survey_results_public_2022.csv',\n",
       " 'survey_results_schema_2020.csv',\n",
       " 'survey_results_schema_2022.csv',\n",
       " 'Tab 7 - flights data.xlsx',\n",
       " 'Tab 7 - Obesity Data Set.csv',\n",
       " 'Tab 8 - African Mobile Data.xlsx',\n",
       " 'Tab 8 - Bulid a House.xlsx',\n",
       " 'Tab 8 - Coffee Data (2).csv',\n",
       " 'Tab 8 - Coffee Data.csv',\n",
       " \"Tab 8 - Edureka's_Most_ Popular.xlsx\",\n",
       " 'Tab 8 - Park visiting trends.csv',\n",
       " 'Tab 9 - Global Retail Case Study.xlsx',\n",
       " 'Tab 9 - In class demo- Global Retail Case Study.xlsx',\n",
       " 'Tab 9 - In class project 2.xlsx',\n",
       " 'Tab 9 - UK BANK DATA.csv',\n",
       " 'Tab 9 - World Indicators.csv',\n",
       " 'Tableau Class 1 Datasets',\n",
       " 'Tableau Class 2 Datasets',\n",
       " 'Tableau green_eco data set _a1b_g5h7ie - Module 9 MCQ dataset.csv',\n",
       " 'Tableau Module 1 Case Study Dataset',\n",
       " 'Tableau Module 2 Case Study Dataset',\n",
       " 'tips-dataset.ipynb',\n",
       " 'tips.csv',\n",
       " 'Titanic.csv',\n",
       " 'UK BANK DATA - Tableau Module 9 copy.csv',\n",
       " 'USA_Superstore.xlsx',\n",
       " 'weather.csv',\n",
       " 'wine.csv',\n",
       " '~$survey_results_public_2020.xlsx']"
      ]
     },
     "execution_count": 54,
     "metadata": {},
     "output_type": "execute_result"
    }
   ],
   "source": [
    "os.listdir()"
   ]
  },
  {
   "cell_type": "code",
   "execution_count": 55,
   "id": "e481c8dc",
   "metadata": {
    "scrolled": false
   },
   "outputs": [
    {
     "data": {
      "text/html": [
       "<div>\n",
       "<style scoped>\n",
       "    .dataframe tbody tr th:only-of-type {\n",
       "        vertical-align: middle;\n",
       "    }\n",
       "\n",
       "    .dataframe tbody tr th {\n",
       "        vertical-align: top;\n",
       "    }\n",
       "\n",
       "    .dataframe thead th {\n",
       "        text-align: right;\n",
       "    }\n",
       "</style>\n",
       "<table border=\"1\" class=\"dataframe\">\n",
       "  <thead>\n",
       "    <tr style=\"text-align: right;\">\n",
       "      <th></th>\n",
       "      <th>age</th>\n",
       "      <th>sex</th>\n",
       "      <th>cp</th>\n",
       "      <th>trestbps</th>\n",
       "      <th>chol</th>\n",
       "      <th>fbs</th>\n",
       "      <th>restecg</th>\n",
       "      <th>thalach</th>\n",
       "      <th>exang</th>\n",
       "      <th>oldpeak</th>\n",
       "      <th>slope</th>\n",
       "      <th>ca</th>\n",
       "      <th>thal</th>\n",
       "      <th>target</th>\n",
       "    </tr>\n",
       "  </thead>\n",
       "  <tbody>\n",
       "    <tr>\n",
       "      <th>0</th>\n",
       "      <td>52</td>\n",
       "      <td>1</td>\n",
       "      <td>0</td>\n",
       "      <td>125</td>\n",
       "      <td>212</td>\n",
       "      <td>0</td>\n",
       "      <td>1</td>\n",
       "      <td>168</td>\n",
       "      <td>0</td>\n",
       "      <td>1.0</td>\n",
       "      <td>2</td>\n",
       "      <td>2</td>\n",
       "      <td>3</td>\n",
       "      <td>0</td>\n",
       "    </tr>\n",
       "    <tr>\n",
       "      <th>1</th>\n",
       "      <td>53</td>\n",
       "      <td>1</td>\n",
       "      <td>0</td>\n",
       "      <td>140</td>\n",
       "      <td>203</td>\n",
       "      <td>1</td>\n",
       "      <td>0</td>\n",
       "      <td>155</td>\n",
       "      <td>1</td>\n",
       "      <td>3.1</td>\n",
       "      <td>0</td>\n",
       "      <td>0</td>\n",
       "      <td>3</td>\n",
       "      <td>0</td>\n",
       "    </tr>\n",
       "    <tr>\n",
       "      <th>2</th>\n",
       "      <td>70</td>\n",
       "      <td>1</td>\n",
       "      <td>0</td>\n",
       "      <td>145</td>\n",
       "      <td>174</td>\n",
       "      <td>0</td>\n",
       "      <td>1</td>\n",
       "      <td>125</td>\n",
       "      <td>1</td>\n",
       "      <td>2.6</td>\n",
       "      <td>0</td>\n",
       "      <td>0</td>\n",
       "      <td>3</td>\n",
       "      <td>0</td>\n",
       "    </tr>\n",
       "    <tr>\n",
       "      <th>3</th>\n",
       "      <td>61</td>\n",
       "      <td>1</td>\n",
       "      <td>0</td>\n",
       "      <td>148</td>\n",
       "      <td>203</td>\n",
       "      <td>0</td>\n",
       "      <td>1</td>\n",
       "      <td>161</td>\n",
       "      <td>0</td>\n",
       "      <td>0.0</td>\n",
       "      <td>2</td>\n",
       "      <td>1</td>\n",
       "      <td>3</td>\n",
       "      <td>0</td>\n",
       "    </tr>\n",
       "    <tr>\n",
       "      <th>4</th>\n",
       "      <td>62</td>\n",
       "      <td>0</td>\n",
       "      <td>0</td>\n",
       "      <td>138</td>\n",
       "      <td>294</td>\n",
       "      <td>1</td>\n",
       "      <td>1</td>\n",
       "      <td>106</td>\n",
       "      <td>0</td>\n",
       "      <td>1.9</td>\n",
       "      <td>1</td>\n",
       "      <td>3</td>\n",
       "      <td>2</td>\n",
       "      <td>0</td>\n",
       "    </tr>\n",
       "    <tr>\n",
       "      <th>...</th>\n",
       "      <td>...</td>\n",
       "      <td>...</td>\n",
       "      <td>...</td>\n",
       "      <td>...</td>\n",
       "      <td>...</td>\n",
       "      <td>...</td>\n",
       "      <td>...</td>\n",
       "      <td>...</td>\n",
       "      <td>...</td>\n",
       "      <td>...</td>\n",
       "      <td>...</td>\n",
       "      <td>...</td>\n",
       "      <td>...</td>\n",
       "      <td>...</td>\n",
       "    </tr>\n",
       "    <tr>\n",
       "      <th>1020</th>\n",
       "      <td>59</td>\n",
       "      <td>1</td>\n",
       "      <td>1</td>\n",
       "      <td>140</td>\n",
       "      <td>221</td>\n",
       "      <td>0</td>\n",
       "      <td>1</td>\n",
       "      <td>164</td>\n",
       "      <td>1</td>\n",
       "      <td>0.0</td>\n",
       "      <td>2</td>\n",
       "      <td>0</td>\n",
       "      <td>2</td>\n",
       "      <td>1</td>\n",
       "    </tr>\n",
       "    <tr>\n",
       "      <th>1021</th>\n",
       "      <td>60</td>\n",
       "      <td>1</td>\n",
       "      <td>0</td>\n",
       "      <td>125</td>\n",
       "      <td>258</td>\n",
       "      <td>0</td>\n",
       "      <td>0</td>\n",
       "      <td>141</td>\n",
       "      <td>1</td>\n",
       "      <td>2.8</td>\n",
       "      <td>1</td>\n",
       "      <td>1</td>\n",
       "      <td>3</td>\n",
       "      <td>0</td>\n",
       "    </tr>\n",
       "    <tr>\n",
       "      <th>1022</th>\n",
       "      <td>47</td>\n",
       "      <td>1</td>\n",
       "      <td>0</td>\n",
       "      <td>110</td>\n",
       "      <td>275</td>\n",
       "      <td>0</td>\n",
       "      <td>0</td>\n",
       "      <td>118</td>\n",
       "      <td>1</td>\n",
       "      <td>1.0</td>\n",
       "      <td>1</td>\n",
       "      <td>1</td>\n",
       "      <td>2</td>\n",
       "      <td>0</td>\n",
       "    </tr>\n",
       "    <tr>\n",
       "      <th>1023</th>\n",
       "      <td>50</td>\n",
       "      <td>0</td>\n",
       "      <td>0</td>\n",
       "      <td>110</td>\n",
       "      <td>254</td>\n",
       "      <td>0</td>\n",
       "      <td>0</td>\n",
       "      <td>159</td>\n",
       "      <td>0</td>\n",
       "      <td>0.0</td>\n",
       "      <td>2</td>\n",
       "      <td>0</td>\n",
       "      <td>2</td>\n",
       "      <td>1</td>\n",
       "    </tr>\n",
       "    <tr>\n",
       "      <th>1024</th>\n",
       "      <td>54</td>\n",
       "      <td>1</td>\n",
       "      <td>0</td>\n",
       "      <td>120</td>\n",
       "      <td>188</td>\n",
       "      <td>0</td>\n",
       "      <td>1</td>\n",
       "      <td>113</td>\n",
       "      <td>0</td>\n",
       "      <td>1.4</td>\n",
       "      <td>1</td>\n",
       "      <td>1</td>\n",
       "      <td>3</td>\n",
       "      <td>0</td>\n",
       "    </tr>\n",
       "  </tbody>\n",
       "</table>\n",
       "<p>1025 rows × 14 columns</p>\n",
       "</div>"
      ],
      "text/plain": [
       "      age  sex  cp  trestbps  chol  fbs  restecg  thalach  exang  oldpeak  \\\n",
       "0      52    1   0       125   212    0        1      168      0      1.0   \n",
       "1      53    1   0       140   203    1        0      155      1      3.1   \n",
       "2      70    1   0       145   174    0        1      125      1      2.6   \n",
       "3      61    1   0       148   203    0        1      161      0      0.0   \n",
       "4      62    0   0       138   294    1        1      106      0      1.9   \n",
       "...   ...  ...  ..       ...   ...  ...      ...      ...    ...      ...   \n",
       "1020   59    1   1       140   221    0        1      164      1      0.0   \n",
       "1021   60    1   0       125   258    0        0      141      1      2.8   \n",
       "1022   47    1   0       110   275    0        0      118      1      1.0   \n",
       "1023   50    0   0       110   254    0        0      159      0      0.0   \n",
       "1024   54    1   0       120   188    0        1      113      0      1.4   \n",
       "\n",
       "      slope  ca  thal  target  \n",
       "0         2   2     3       0  \n",
       "1         0   0     3       0  \n",
       "2         0   0     3       0  \n",
       "3         2   1     3       0  \n",
       "4         1   3     2       0  \n",
       "...     ...  ..   ...     ...  \n",
       "1020      2   0     2       1  \n",
       "1021      1   1     3       0  \n",
       "1022      1   1     2       0  \n",
       "1023      2   0     2       1  \n",
       "1024      1   1     3       0  \n",
       "\n",
       "[1025 rows x 14 columns]"
      ]
     },
     "execution_count": 55,
     "metadata": {},
     "output_type": "execute_result"
    }
   ],
   "source": [
    "df = pd.read_csv('heart (1) - LogReg.csv')\n",
    "df"
   ]
  },
  {
   "cell_type": "code",
   "execution_count": 56,
   "id": "2dba0a6b",
   "metadata": {},
   "outputs": [],
   "source": [
    "x = df.iloc[:, :-1]\n",
    "y = df.iloc[:,-1]"
   ]
  },
  {
   "cell_type": "code",
   "execution_count": null,
   "id": "4f989216",
   "metadata": {},
   "outputs": [],
   "source": []
  },
  {
   "cell_type": "code",
   "execution_count": 57,
   "id": "cc8da519",
   "metadata": {},
   "outputs": [],
   "source": [
    "x_train, x_test, y_train, y_test = train_test_split(x,y,test_size=0.2, random_state=5)"
   ]
  },
  {
   "cell_type": "code",
   "execution_count": 58,
   "id": "b02a465f",
   "metadata": {},
   "outputs": [],
   "source": [
    "ss = StandardScaler()"
   ]
  },
  {
   "cell_type": "code",
   "execution_count": 59,
   "id": "31969466",
   "metadata": {},
   "outputs": [],
   "source": [
    "x_train_ss = ss.fit_transform(x_train)\n",
    "x_test_ss = ss.transform(x_test)"
   ]
  },
  {
   "cell_type": "code",
   "execution_count": 60,
   "id": "7f238ed6",
   "metadata": {},
   "outputs": [],
   "source": [
    "pca = PCA(n_components=13)"
   ]
  },
  {
   "cell_type": "code",
   "execution_count": 61,
   "id": "802af37e",
   "metadata": {},
   "outputs": [],
   "source": [
    "x_train_pca = pca.fit_transform(x_train_ss)\n",
    "x_test_pca = pca.transform(x_test_ss)"
   ]
  },
  {
   "cell_type": "code",
   "execution_count": 62,
   "id": "b6a0fbc3",
   "metadata": {},
   "outputs": [],
   "source": [
    "lr = LogisticRegression()"
   ]
  },
  {
   "cell_type": "code",
   "execution_count": 63,
   "id": "82691528",
   "metadata": {},
   "outputs": [],
   "source": [
    "model = lr.fit(x_train_pca,y_train)\n",
    "y_predict = lr.predict(x_test_pca)"
   ]
  },
  {
   "cell_type": "code",
   "execution_count": 64,
   "id": "1609c63c",
   "metadata": {
    "scrolled": false
   },
   "outputs": [
    {
     "data": {
      "text/plain": [
       "array([[79,  7],\n",
       "       [24, 95]], dtype=int64)"
      ]
     },
     "execution_count": 64,
     "metadata": {},
     "output_type": "execute_result"
    }
   ],
   "source": [
    "cc = confusion_matrix(y_predict, y_test)\n",
    "cc"
   ]
  },
  {
   "cell_type": "code",
   "execution_count": 65,
   "id": "86cc771a",
   "metadata": {},
   "outputs": [
    {
     "data": {
      "text/plain": [
       "0.848780487804878"
      ]
     },
     "execution_count": 65,
     "metadata": {},
     "output_type": "execute_result"
    }
   ],
   "source": [
    "acc = accuracy_score(y_predict, y_test)\n",
    "acc"
   ]
  },
  {
   "cell_type": "code",
   "execution_count": 66,
   "id": "d0af1f2b",
   "metadata": {},
   "outputs": [
    {
     "data": {
      "text/plain": [
       "array([2.747905  , 1.57671953, 1.20644825, 1.17875128, 1.00725854,\n",
       "       0.95638888, 0.87271936, 0.75670726, 0.7183093 , 0.64606386,\n",
       "       0.53552059, 0.43976894, 0.37331224])"
      ]
     },
     "execution_count": 66,
     "metadata": {},
     "output_type": "execute_result"
    }
   ],
   "source": [
    "ev = pca.explained_variance_\n",
    "ev"
   ]
  },
  {
   "cell_type": "code",
   "execution_count": 67,
   "id": "3357f982",
   "metadata": {},
   "outputs": [
    {
     "data": {
      "text/plain": [
       "array([0.21111953, 0.33225774, 0.42494827, 0.51551087, 0.59289781,\n",
       "       0.66637647, 0.73342686, 0.79156412, 0.8467513 , 0.89638791,\n",
       "       0.93753157, 0.97131869, 1.        ])"
      ]
     },
     "execution_count": 67,
     "metadata": {},
     "output_type": "execute_result"
    }
   ],
   "source": [
    "cum = np.cumsum(ev)/np.sum(ev)\n",
    "cum"
   ]
  },
  {
   "cell_type": "code",
   "execution_count": 73,
   "id": "c8ef154c",
   "metadata": {
    "scrolled": false
   },
   "outputs": [
    {
     "data": {
      "text/plain": [
       "<function matplotlib.pyplot.show(close=None, block=None)>"
      ]
     },
     "execution_count": 73,
     "metadata": {},
     "output_type": "execute_result"
    },
    {
     "data": {
      "image/png": "[encoded data removed]",
      "text/plain": [
       "<Figure size 640x480 with 1 Axes>"
      ]
     },
     "metadata": {},
     "output_type": "display_data"
    }
   ],
   "source": [
    "plt.plot(range(1,len(ev)+1), cum, marker = \"*\")\n",
    "plt.xlabel('PCA Value')\n",
    "plt.ylabel('Cum EV')\n",
    "plt.show"
   ]
  },
  {
   "cell_type": "code",
   "execution_count": 70,
   "id": "bdac4e39",
   "metadata": {},
   "outputs": [
    {
     "data": {
      "text/plain": [
       "10"
      ]
     },
     "execution_count": 70,
     "metadata": {},
     "output_type": "execute_result"
    }
   ],
   "source": [
    "threshold = 0.85\n",
    "selected_pca = np.argmax(cum >= threshold) + 1\n",
    "selected_pca"
   ]
  },
  {
   "cell_type": "code",
   "execution_count": null,
   "id": "a87c7869",
   "metadata": {},
   "outputs": [],
   "source": []
  }
 ],
 "metadata": {
  "kernelspec": {
   "display_name": "Python 3 (ipykernel)",
   "language": "python",
   "name": "python3"
  },
  "language_info": {
   "codemirror_mode": {
    "name": "ipython",
    "version": 3
   },
   "file_extension": ".py",
   "mimetype": "text/x-python",
   "name": "python",
   "nbconvert_exporter": "python",
   "pygments_lexer": "ipython3",
   "version": "3.9.13"
  }
 },
 "nbformat": 4,
 "nbformat_minor": 5
}
